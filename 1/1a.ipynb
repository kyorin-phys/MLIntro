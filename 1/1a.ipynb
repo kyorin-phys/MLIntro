{
 "cells": [
  {
   "cell_type": "markdown",
   "metadata": {},
   "source": [
    "# 1-2 Pythonの基礎\n",
    "\n",
    "[![Open In Colab](https://colab.research.google.com/assets/colab-badge.svg)](https://colab.research.google.com/github/kyorin-phys/pythonML/blob/main/1a.ipynb)"
   ]
  },
  {
   "cell_type": "markdown",
   "metadata": {},
   "source": [
    "## Python言語の特徴\n",
    "\n",
    "* シンプルで読みやすい\n",
    "* ライブラリが豊富\n",
    "* クロスプラットフォーム(Windows, Mac, Linux)\n",
    "* オープンソース(無料、コード公開)\n",
    "* 動的型付け\n",
    "* 多用途"
   ]
  },
  {
   "cell_type": "markdown",
   "metadata": {},
   "source": [
    "## 変数とデータ型\n",
    "\n",
    "`変数名 = 値`　\n",
    "  で新しい変数ができて、その値に代入される。\n",
    "  すでに変数がある場合は値が変更される。\n",
    "\n",
    "* 数値(整数、浮動小数点数)\n",
    "\n",
    "  `a = 2`\n",
    "  \n",
    "  `b = 3.14`\n",
    "\n",
    "* 文字列\n",
    "  \n",
    "  `c = \"python\"`\n",
    "* 真偽値（True/False）\n",
    "  \n",
    "  `d = True`\n",
    "* リスト\n",
    "  \n",
    "  `e = [1,2,3,4,5]`\n",
    "\n",
    "  `f = [[1,2,3],[4,5,6]]` #2次元配列　2行3列  \n",
    "\n",
    "* 辞書\n",
    "  \n",
    "  `g = {\"biology\": 1, \"chemistry\": 2, \"physics\": 3}`\n",
    "\n",
    "type関数でその変数の型を調べることができる"
   ]
  },
  {
   "cell_type": "code",
   "execution_count": 9,
   "metadata": {},
   "outputs": [
    {
     "name": "stdout",
     "output_type": "stream",
     "text": [
      "2 => <class 'int'>\n",
      "3.14 => <class 'float'>\n",
      "python => <class 'str'>\n",
      "True => <class 'bool'>\n",
      "[1, 2, 3, 4, 5] => <class 'list'>\n",
      "[[1, 2, 3], [4, 5, 6]] => <class 'list'>\n",
      "{'biology': 1, 'chemistry': 2, 'physics': 3} => <class 'dict'>\n"
     ]
    }
   ],
   "source": [
    "a = 2\n",
    "b = 3.14\n",
    "c = \"python\"\n",
    "d = True\n",
    "e = [1, 2, 3, 4, 5]\n",
    "f = [[1,2,3],[4,5,6]]\n",
    "g = {\"biology\": 1, \"chemistry\": 2, \"physics\": 3}\n",
    "# 各変数の型を調べる\n",
    "for v in [a, b, c, d, e, f, g]:\n",
    "    print(v, '=>', type(v))"
   ]
  },
  {
   "cell_type": "markdown",
   "metadata": {},
   "source": [
    "## 基本的な演算\n",
    "\n",
    "* 算術演算子 \n",
    "`+ , - , * , / , %(剰余), **(べき乗)`\n",
    "* 比較演算子\n",
    "`==（等しい） , != （等しくない）, > , < , >= , <=`\n",
    "* 論理演算子\n",
    "`and , or , not`"
   ]
  },
  {
   "cell_type": "code",
   "execution_count": 10,
   "metadata": {},
   "outputs": [
    {
     "data": {
      "text/plain": [
       "2.25"
      ]
     },
     "execution_count": 10,
     "metadata": {},
     "output_type": "execute_result"
    }
   ],
   "source": [
    "# 次の計算を実行してみよう\n",
    "(1 + 2) * 3 / 4"
   ]
  },
  {
   "cell_type": "code",
   "execution_count": 11,
   "metadata": {},
   "outputs": [
    {
     "data": {
      "text/plain": [
       "True"
      ]
     },
     "execution_count": 11,
     "metadata": {},
     "output_type": "execute_result"
    }
   ],
   "source": [
    "# 5 を 3 で割った余り \n",
    "5 % 3 == 2 "
   ]
  },
  {
   "cell_type": "markdown",
   "metadata": {},
   "source": [
    "\n",
    "## 制御構文\n",
    "\n",
    "基本的には前から順番に実行されるが、以下の制御構造で分岐したり、繰り返しを行う\n",
    "\n",
    "* 条件分岐 \n",
    "`if, else, elif`"
   ]
  },
  {
   "cell_type": "code",
   "execution_count": 12,
   "metadata": {},
   "outputs": [
    {
     "name": "stdout",
     "output_type": "stream",
     "text": [
      "xは3で割ると1余る\n"
     ]
    }
   ],
   "source": [
    "# x の値を変えて実行してみよう\n",
    "x = 4\n",
    "if x % 3 == 0:\n",
    "  print(\"xは3で割り切れる\")\n",
    "elif x % 3 == 1:\n",
    "  print(\"xは3で割ると1余る\")\n",
    "else:\n",
    "  print(\"どちらでもない\")"
   ]
  },
  {
   "cell_type": "markdown",
   "metadata": {},
   "source": [
    "## 繰り返し（ループ）\n",
    "`for, while`\n",
    "\n",
    "## for ループ\n",
    "```\n",
    "  for 変数 in 繰り返す要素（リストなど）:\n",
    "    このブロックを繰り返す\n",
    "```\n",
    "\n",
    "range関数\n",
    "\n",
    "`range(start,stop[,step])`　start, step は省略可(デフォルトの値はstart=0,step=1), stopはexclusive(その値を含まない)\n",
    "\n",
    "range(10) -> 0,1,2,...,9　# 0から9までのリスト（正確にはrangeオブジェクト）\n",
    "\n",
    "range(1,10) -> 1,2,...,9　# 1から9までのリスト\n",
    "\n",
    "range(1,10,2) -> 1,3,5,7,9　# 1から9までの公差2の等差数列"
   ]
  },
  {
   "cell_type": "code",
   "execution_count": 13,
   "metadata": {},
   "outputs": [
    {
     "name": "stdout",
     "output_type": "stream",
     "text": [
      "range(0, 3) [0, 1, 2]\n"
     ]
    }
   ],
   "source": [
    "print(range(3), list(range(3))) # range そのものはリストでないので、リストを作るにはlist()に入れる必要がある "
   ]
  },
  {
   "cell_type": "code",
   "execution_count": 14,
   "metadata": {},
   "outputs": [
    {
     "name": "stdout",
     "output_type": "stream",
     "text": [
      "3 6 9 12 13 15 18 21 23 24 27 30 31 32 33 34 35 36 37 38 39 "
     ]
    }
   ],
   "source": [
    "# １から40までの整数のうち、3の倍数か3を含むものだけを出力せよ\n",
    "for i in range(1, 41):\n",
    "    if i % 3 == 0 or \"3\" in str(i):\n",
    "        print(i, end=\" \") # 末尾に改行ではなく空白を付ける"
   ]
  },
  {
   "cell_type": "markdown",
   "metadata": {},
   "source": [
    "## while ループ\n",
    "\n",
    "```\n",
    "while 条件式:\n",
    "  条件式を満たす限り、永遠に繰り返す\n",
    "```\n",
    "条件式が常に真だと無限ループになるので注意"
   ]
  },
  {
   "cell_type": "code",
   "execution_count": 15,
   "metadata": {},
   "outputs": [
    {
     "name": "stdout",
     "output_type": "stream",
     "text": [
      "1 2 3 4 5 6 7 8 9 10 "
     ]
    }
   ],
   "source": [
    "i = 0\n",
    "while i < 10:\n",
    "  i += 1   # i = i + 1 の省略形\n",
    "  print(i, end=' ')\n",
    "# i=0 からスタートして i<10 である限り繰り返す"
   ]
  },
  {
   "cell_type": "markdown",
   "metadata": {},
   "source": [
    "ループから脱出するには **break** を使う。"
   ]
  },
  {
   "cell_type": "code",
   "execution_count": 16,
   "metadata": {},
   "outputs": [
    {
     "name": "stdout",
     "output_type": "stream",
     "text": [
      "1 2 3 4 5 6 7 8 9 10 "
     ]
    }
   ],
   "source": [
    "i = 0\n",
    "while True: # 無限ループ\n",
    "  i += 1\n",
    "  if i > 10: \n",
    "    break\n",
    "  else:\n",
    "    print(i, end=' ')"
   ]
  },
  {
   "cell_type": "code",
   "execution_count": null,
   "metadata": {},
   "outputs": [],
   "source": [
    "for i in range(1, 11):\n",
    "    print(i, end=' ')"
   ]
  },
  {
   "cell_type": "markdown",
   "metadata": {},
   "source": [
    "## リスト内包表記\n",
    "\n",
    "python独特の記法。ループより高速なのでよく使われる。"
   ]
  },
  {
   "cell_type": "code",
   "execution_count": 17,
   "metadata": {},
   "outputs": [
    {
     "name": "stdout",
     "output_type": "stream",
     "text": [
      "[2, 4, 6, 8, 10]\n",
      "[2, 4, 6, 8, 10]\n"
     ]
    }
   ],
   "source": [
    "# 例１\n",
    "numbers = [1, 2, 3, 4, 5]\n",
    "even = [x*2 for x in numbers]\n",
    "print(even)\n",
    "\n",
    "# for 文で書くと\n",
    "even = [] # 空の配列を作る\n",
    "for i in range(1,6):\n",
    "  even.append(i*2) # 要素を追加する\n",
    "print(even)"
   ]
  },
  {
   "cell_type": "code",
   "execution_count": 18,
   "metadata": {},
   "outputs": [
    {
     "name": "stdout",
     "output_type": "stream",
     "text": [
      "[0, 2, 0, 4, 0]\n",
      "[0, 2, 0, 4, 0]\n"
     ]
    }
   ],
   "source": [
    "# 例2\n",
    "# for ~ else\n",
    "numbers = [1, 2, 3, 4, 5]\n",
    "# 偶数ならそのまま、奇数なら0にする\n",
    "result = [x if x % 2 == 0 else 0 for x in numbers]\n",
    "print(result)  # 出力: [0, 2, 0, 4, 0]\n",
    "\n",
    "# 同じことをfor文で書くと\n",
    "result = []\n",
    "for x in numbers:\n",
    "  if x % 2 == 0:\n",
    "    result.append(x)\n",
    "  else:\n",
    "    result.append(0)\n",
    "print(result)\n",
    "# リスト内包表記でelifは使えない。"
   ]
  },
  {
   "cell_type": "markdown",
   "metadata": {},
   "source": [
    "## 3項演算子\n",
    "\n",
    "<true_value> if <condition> else <else_value>\n",
    "\n",
    "リスト内包表記、3項演算子は簡潔に書けるが、慣れるまではfor文やif文が使えればよい。 "
   ]
  },
  {
   "cell_type": "code",
   "execution_count": 19,
   "metadata": {},
   "outputs": [
    {
     "name": "stdout",
     "output_type": "stream",
     "text": [
      "10 20 20\n",
      "20 10 20\n"
     ]
    }
   ],
   "source": [
    "# 例\n",
    "a = 10\n",
    "b = 20\n",
    "max_value = a if a > b else b # a > b のときは a, それ以外のときは b を返す\n",
    "print(a, b, max_value)\n",
    "\n",
    "# if 文で書くと\n",
    "a = 20\n",
    "b = 10\n",
    "if a > b:\n",
    "  max_value = a\n",
    "else:\n",
    "  max_value = b\n",
    "print(a, b, max_value)"
   ]
  },
  {
   "cell_type": "code",
   "execution_count": 25,
   "metadata": {},
   "outputs": [
    {
     "name": "stdout",
     "output_type": "stream",
     "text": [
      "2 3\n",
      "3 2\n",
      "-----\n",
      "2 3\n",
      "3 2\n",
      "-----\n",
      "2 3\n",
      "3 3\n"
     ]
    }
   ],
   "source": [
    "# 値の交換\n",
    "# 他の言語では一旦 他の値に入れてから代入しなおす。\n",
    "a = 2\n",
    "b = 3\n",
    "print(a, b)\n",
    "tmp = b # tmp = 3\n",
    "b = a   # b = 2 \n",
    "a = tmp # a = 3\n",
    "print(a, b)\n",
    "print('-----')\n",
    "## python独特の方法\n",
    "a = 2\n",
    "b = 3\n",
    "print(a, b)\n",
    "# 一行で済む\n",
    "a, b = b, a\n",
    "print(a, b)\n",
    "print('-----')\n",
    "# 同時にやらないと失敗する\n",
    "a = 2\n",
    "b = 3\n",
    "print(a, b)\n",
    "a = b\n",
    "b = a\n",
    "print(a,b) # 両方同じ値になる"
   ]
  },
  {
   "cell_type": "markdown",
   "metadata": {},
   "source": [
    "## 関数\n",
    "\n",
    "関数の定義と呼び出し\n",
    "\n",
    "```\n",
    "def 関数名(引数):\n",
    "    return 返り値\n",
    "```\n",
    "引数は省略可。return文がなくてもよい。\n",
    "\n",
    "`関数名()` で実行される。\n"
   ]
  },
  {
   "cell_type": "code",
   "execution_count": 21,
   "metadata": {},
   "outputs": [
    {
     "name": "stdout",
     "output_type": "stream",
     "text": [
      "Hello World!\n"
     ]
    }
   ],
   "source": [
    "# 例1:　引数、返り値なし、printするだけ\n",
    "def hello():\n",
    "    print(\"Hello World!\")\n",
    "\n",
    "hello()"
   ]
  },
  {
   "cell_type": "code",
   "execution_count": null,
   "metadata": {},
   "outputs": [],
   "source": [
    "# 例2: 引数あり\n",
    "def hello2(name):\n",
    "    print(\"Hello \" + name)\n",
    "\n",
    "hello2(\"taro\")\n",
    "hello2(\"jiro\")"
   ]
  },
  {
   "cell_type": "code",
   "execution_count": null,
   "metadata": {},
   "outputs": [],
   "source": [
    "# 例3：返り値あり　計算結果を返す\n",
    "def mysum(a, b):\n",
    "    return a+b\n",
    "\n",
    "print(mysum(2, 3))"
   ]
  },
  {
   "cell_type": "markdown",
   "metadata": {},
   "source": [
    "##  組み込み関数\n",
    "\n",
    "`print, len, type, ...`\n",
    "\n",
    "[組み込み関数一覧](https://docs.python.org/ja/3/library/functions.html)\n"
   ]
  },
  {
   "cell_type": "markdown",
   "metadata": {},
   "source": []
  }
 ],
 "metadata": {
  "kernelspec": {
   "display_name": "Python 3 (ipykernel)",
   "language": "python",
   "name": "python3"
  },
  "language_info": {
   "codemirror_mode": {
    "name": "ipython",
    "version": 3
   },
   "file_extension": ".py",
   "mimetype": "text/x-python",
   "name": "python",
   "nbconvert_exporter": "python",
   "pygments_lexer": "ipython3",
   "version": "3.11.7"
  }
 },
 "nbformat": 4,
 "nbformat_minor": 4
}
