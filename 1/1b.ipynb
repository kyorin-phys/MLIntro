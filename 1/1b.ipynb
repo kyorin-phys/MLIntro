{
 "cells": [
  {
   "cell_type": "markdown",
   "metadata": {},
   "source": [
    "# グラフ、画像の表示\n",
    "\n",
    "[![Open In Colab](https://colab.research.google.com/assets/colab-badge.svg)](https://colab.research.google.com/github/kyorin-phys/MLIntro/blob/main/1/1b.ipynb)\n",
    "\n",
    "## matplotlib ライブラリ\n",
    "* [matplotlib](https://matplotlib.org/)\n",
    "\n",
    "[グラフの種類一覧](https://matplotlib.org/stable/plot_types/index.html)\n",
    "\n"
   ]
  },
  {
   "cell_type": "code",
   "execution_count": null,
   "metadata": {},
   "outputs": [],
   "source": [
    "import matplotlib.pyplot as plt\n",
    "x = [1,2,3,4,5]\n",
    "y = [3,6,9,12,15]\n",
    "#plt.plot(x, y) # 線を引く\n",
    "plt.scatter(x, y) # 散布図（点のみ）\n",
    "plt.show()"
   ]
  },
  {
   "cell_type": "code",
   "execution_count": null,
   "metadata": {},
   "outputs": [],
   "source": [
    "# 軸ラベルやタイトル、目盛線、凡例の追加\n",
    "plt.plot(x, y, label='y')\n",
    "plt.xlabel('x')\n",
    "plt.ylabel('y')\n",
    "plt.title('title')\n",
    "plt.grid()\n",
    "plt.legend()\n",
    "plt.show()"
   ]
  },
  {
   "cell_type": "code",
   "execution_count": null,
   "metadata": {},
   "outputs": [],
   "source": [
    "# 日本語は文字化けするので、japanize_matplotlib をインポートする\n",
    "!pip install japanize_matplotlib\n",
    "import japanize_matplotlib\n",
    "plt.plot(x, y, label='y')\n",
    "plt.xlabel('x軸')\n",
    "plt.ylabel('y軸')\n",
    "plt.title('タイトル')\n",
    "plt.legend()\n",
    "plt.show()"
   ]
  },
  {
   "cell_type": "markdown",
   "metadata": {},
   "source": [
    "## seaborn ライブラリ　\n",
    "統計用グラフが充実\n",
    "* [seaborn](https://seaborn.pydata.org/index.html)\n",
    "\n",
    "[グラフ一覧](https://seaborn.pydata.org/examples/index.html)"
   ]
  },
  {
   "cell_type": "code",
   "execution_count": null,
   "metadata": {},
   "outputs": [],
   "source": [
    "# アヤメデータ\n",
    "import seaborn as sns # なぜSNSと略すのかはアメリカのテレビ番組が由来なので説明されてもわからない\n",
    "from sklearn.datasets import load_iris\n",
    "print(sns.get_dataset_names()) # seabornに含まれるサンプルデータ\n",
    "iris = sns.load_dataset('iris')\n",
    "iris "
   ]
  },
  {
   "cell_type": "markdown",
   "metadata": {},
   "source": [
    "<img src=\"https://miro.medium.com/max/1000/1*Hh53mOF4Xy4eORjLilKOwA.png\" width=\"50%\">"
   ]
  },
  {
   "cell_type": "code",
   "execution_count": null,
   "metadata": {},
   "outputs": [],
   "source": [
    "# sepal_length, sepal_widthで散布図、hue で層別に色分け\n",
    "sns.relplot(data=iris, x='sepal_length',y='sepal_width', hue='species')"
   ]
  },
  {
   "cell_type": "code",
   "execution_count": null,
   "metadata": {},
   "outputs": [],
   "source": [
    "# 散布図行列\n",
    "sns.pairplot(iris, hue='species')"
   ]
  },
  {
   "cell_type": "code",
   "execution_count": null,
   "metadata": {},
   "outputs": [],
   "source": [
    "# 相関行列\n",
    "corr = iris.corr(numeric_only=True)\n",
    "corr"
   ]
  },
  {
   "cell_type": "code",
   "execution_count": null,
   "metadata": {},
   "outputs": [],
   "source": [
    "# ヒートマップ\n",
    "sns.heatmap(corr, cmap='coolwarm',annot=True)"
   ]
  },
  {
   "cell_type": "markdown",
   "metadata": {},
   "source": [
    "* 練習問題\n",
    "データセット penguins を読み込んで同様なグラフを描いてみよ\n",
    "\n",
    "<img src=\"https://allisonhorst.github.io/palmerpenguins/reference/figures/lter_penguins.png\" width='30%'>"
   ]
  },
  {
   "cell_type": "code",
   "execution_count": null,
   "metadata": {},
   "outputs": [],
   "source": [
    "penguins = sns.load_dataset('penguins')\n",
    "penguins"
   ]
  },
  {
   "cell_type": "code",
   "execution_count": null,
   "metadata": {},
   "outputs": [],
   "source": [
    "# bill_length, bill_depth で散布図\n",
    "sns.relplot(penguins, x='bill_length_mm', y='bill_depth_mm',hue='species')"
   ]
  },
  {
   "cell_type": "code",
   "execution_count": null,
   "metadata": {},
   "outputs": [],
   "source": [
    "# 散布図行列\n",
    "sns.pairplot(penguins, hue='species')"
   ]
  },
  {
   "cell_type": "code",
   "execution_count": null,
   "metadata": {},
   "outputs": [],
   "source": [
    "# 相関行列\n",
    "corr = penguins.corr(numeric_only=True)\n",
    "corr"
   ]
  },
  {
   "cell_type": "code",
   "execution_count": null,
   "metadata": {},
   "outputs": [],
   "source": [
    "# ヒートマップ\n",
    "sns.heatmap(corr, cmap='coolwarm',annot=True)"
   ]
  },
  {
   "cell_type": "markdown",
   "metadata": {},
   "source": [
    "## ライブラリ\n",
    "\n",
    "機能（関数）を拡張する\n",
    "* numpy （数値演算、行列演算）\n",
    "* matplotlib (グラフ)\n",
    "* pandas （テーブルデータ、統計）\n",
    "\n",
    "\n",
    "`import numpy as np`\n",
    "numpy を np という短縮名で読み込む。\n",
    "三角関数、指数関数などの数学関数はインポートしないと使えない。\n",
    "math というライブラリもあるが、機械学習では多次元の配列を使うので numpy を使う。\n",
    "\n",
    "`from numpy import pi`\n",
    "と宣言すると、piが使える。\n",
    "`import numpy as np`\n",
    "だけ宣言した場合は\n",
    "`np.pi` とする必要がある。"
   ]
  },
  {
   "cell_type": "code",
   "execution_count": null,
   "metadata": {},
   "outputs": [],
   "source": [
    "import numpy as np\n",
    "# print(pi) # エラーになる\n",
    "print(np.pi)\n",
    "from numpy import pi\n",
    "print(pi)"
   ]
  },
  {
   "cell_type": "markdown",
   "metadata": {},
   "source": [
    "## numpy 配列\n",
    "リストの場合は要素ごとに演算が必要だが、numpy配列ではまとめて演算できる。\n",
    "例：すべての値を2倍する\n",
    "リストの場合\n",
    "```\n",
    "a = [1,2,3,4,5]\n",
    "a = [i*2 for i in a]\n",
    "```"
   ]
  },
  {
   "cell_type": "code",
   "execution_count": null,
   "metadata": {},
   "outputs": [],
   "source": [
    "# 2倍するつもりが、リストをつなぐ結果に\n",
    "a = [1, 2, 3, 4, 5]\n",
    "print(a * 2)\n",
    "print(a + a)"
   ]
  },
  {
   "cell_type": "code",
   "execution_count": null,
   "metadata": {},
   "outputs": [],
   "source": [
    "# 全ての要素を2倍する\n",
    "a = [1, 2, 3, 4, 5]\n",
    "a = [x*2 for x in a]  #リスト内包表記\n",
    "print(a)\n",
    "# for文は遅いのでなるべく避けた方がよい\n",
    "a = [1, 2, 3, 4, 5]\n",
    "for i in range(len(a)):\n",
    "    a[i] *= 2  # i番目の要素を2倍\n",
    "print(a)\n"
   ]
  },
  {
   "cell_type": "code",
   "execution_count": null,
   "metadata": {},
   "outputs": [],
   "source": [
    "# ベクトルの定数倍と同様にすべての要素が2倍になる\n",
    "b = np.array([1, 2, 3, 4, 5])\n",
    "print(b)\n",
    "print(b * 2)\n",
    "print(type(b))"
   ]
  },
  {
   "cell_type": "code",
   "execution_count": null,
   "metadata": {},
   "outputs": [],
   "source": [
    "# 全ての要素に2を足す\n",
    "# print(a + 2) # リストと数値は足せない\n",
    "# broadcast 2*np.oneslike(b) \n",
    "print(b + 2)\n",
    "print(np.ones_like(b))"
   ]
  },
  {
   "cell_type": "code",
   "execution_count": null,
   "metadata": {},
   "outputs": [],
   "source": [
    "# 積は同じインデックスの要素同士を掛ける\n",
    "a = [1, 2, 3, 4, 5]\n",
    "print(a * b) # これは可能\n",
    "print(b * b)\n",
    "c = np.array([1,2,3])\n",
    "# print(b*c) # 長さの違う配列の積は計算できないのでエラー"
   ]
  },
  {
   "cell_type": "code",
   "execution_count": null,
   "metadata": {},
   "outputs": [],
   "source": [
    "## ベクトルの内積\n",
    "a = np.array([1,2])\n",
    "b = np.array([2,-1])\n",
    "print(np.dot(a, b))"
   ]
  },
  {
   "cell_type": "markdown",
   "metadata": {},
   "source": [
    "## 行列 多次元配列\n",
    "\n",
    "* 1次元の配列: ベクトル(vector)\n",
    "* 2次元の配列: 行列(matrix)\n",
    "* 3次元以上の配列: テンソル(tensor)\n",
    "\n",
    "例:モノクロ画像は2次元のデータからなる。\n",
    "カラー画像は色情報がRGBの3チャンネルを持つ2次元データを組み合わせたもの。\n",
    "\n",
    "CTなどの画像データは3次元テンソル (x,y,z)座標に対するCT値の組。\n",
    "スライスで2次元の画像に切り出したものを画像として見る。"
   ]
  },
  {
   "cell_type": "code",
   "execution_count": null,
   "metadata": {},
   "outputs": [],
   "source": [
    "# matplotlib.imshow で画像を表示させる\n",
    "import matplotlib.pyplot as plt\n",
    "\n",
    "# 2x2のモノクロ画像（グレースケール）を作成\n",
    "monochrome_image = np.array([[0, 127], [255, 0]], dtype=np.uint8)\n",
    "# 0　真っ黒、255　真っ白\n",
    "# モノクロ画像を表示\n",
    "plt.imshow(monochrome_image, cmap='gray')\n",
    "plt.axis('off')\n",
    "plt.show()"
   ]
  },
  {
   "cell_type": "code",
   "execution_count": null,
   "metadata": {},
   "outputs": [],
   "source": [
    "# 2x2のカラー画像（RGB）を作成\n",
    "color_image = np.array([[[255, 0, 0], [0, 255, 0]],\n",
    "                        [[0, 0, 255], [255, 255, 0]]], dtype=np.uint8)\n",
    "# [R,G,B]: [255,0,0] は赤、[0,255,0]は緑、[0,0,255]は青、[255,255,0]は黄\n",
    "# [[赤,緑],[青,黄]] のように色情報を要素に持つ2x2の画像になっている　(2x2x3：3次元テンソル）\n",
    "# カラー画像を表示\n",
    "plt.imshow(color_image)\n",
    "plt.axis('off')\n",
    "plt.show()"
   ]
  },
  {
   "cell_type": "code",
   "execution_count": null,
   "metadata": {},
   "outputs": [],
   "source": [
    "# グレースケール\n",
    "gradient_image = np.linspace(0, 255, 10, dtype=np.uint8).reshape(1, 10) # ベクトルを1x10の行列に変換\n",
    "print(gradient_image)\n",
    "plt.imshow(gradient_image, 'gray')\n",
    "plt.axis('off')\n",
    "plt.show()"
   ]
  },
  {
   "cell_type": "markdown",
   "metadata": {},
   "source": [
    "## 画像の読み込みと表示"
   ]
  },
  {
   "cell_type": "code",
   "execution_count": null,
   "metadata": {},
   "outputs": [],
   "source": [
    "img = plt.imread('img/cat.jpg')\n",
    "plt.imshow(img)\n",
    "plt.axis('off')\n",
    "plt.show()"
   ]
  },
  {
   "cell_type": "markdown",
   "metadata": {},
   "source": [
    "画像を扱うライブラリは他にも多い。\n",
    "代表的なもの\n",
    "* [Pillow](https://pypi.org/project/pillow/)\n",
    "```\n",
    "from PIL import Image\n",
    "img = Image.open('img/cat.jpg')\n",
    "img.show()\n",
    "```\n",
    "画像のトリミング、リサイズなど画像処理の機能がある\n",
    "\n",
    "* [opencv](https://pypi.org/project/opencv-python/)\n",
    "\n",
    "動画解析（カメラから読み込み）、顔検出などの機能もある\n",
    "\n",
    "copilotに命令して、WEBカメラから本のバーコード（ISBN）を読み取り、アマゾンの書籍リンクを作って、蔵書リストを作るコードをコピペだけで作れた。（プロンプトエンジニアリング）"
   ]
  },
  {
   "cell_type": "markdown",
   "metadata": {},
   "source": [
    "## numpy の関数\n",
    "import numpy as np\n",
    "\n",
    "* np.linspace(a,b,n) 等差数列を作る（要素の数を指定する）\n",
    "* np.arange(a,b,dx) 等差数列を作る（幅を指定する）\n",
    "* np.reshape(A, (h, w)) numpy配列Aの形状を縦h、横wに変更（変更前と変更後で要素数は一致）"
   ]
  },
  {
   "cell_type": "code",
   "execution_count": null,
   "metadata": {},
   "outputs": [],
   "source": [
    "A = np.linspace(0, 10, 10)\n",
    "print(A.shape)\n",
    "B  = np.reshape(A, (2,5)) # 2行5列に変換\n",
    "print(B)\n",
    "C = np.reshape(A, (5,2)) # 5行2列に変換\n",
    "print(C)"
   ]
  }
 ],
 "metadata": {
  "kernelspec": {
   "display_name": "base",
   "language": "python",
   "name": "python3"
  },
  "language_info": {
   "codemirror_mode": {
    "name": "ipython",
    "version": 3
   },
   "file_extension": ".py",
   "mimetype": "text/x-python",
   "name": "python",
   "nbconvert_exporter": "python",
   "pygments_lexer": "ipython3",
   "version": "3.11.7"
  }
 },
 "nbformat": 4,
 "nbformat_minor": 2
}
