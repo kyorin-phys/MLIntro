{
 "cells": [
  {
   "cell_type": "markdown",
   "metadata": {},
   "source": [
    "# 画像分類の体験\n",
    "\n",
    "[teachable machine](https://teachablemachine.withgoogle.com/) で画像分類をコーディングなしで実行できる。\n",
    "\n",
    "2種類の画像を用意する。\n",
    "\n",
    "例：犬と猫\n",
    "\n",
    "[旧医科歯科大のサイト](http://drive.google.com/file/d/1b7sTWITljlC3zKk1SvggMZx0rbyojoWY/view?usp=sharing)にcovid, normalの肺X線画像があるので使ってみる。\n",
    "ダウンロード(54MB)して展開する (images_TMDU.zip) images-> COVID-NORMAL にhealthy, covid19のフォルダがあり、116個の画像がある。\n",
    "\n",
    "\n",
    "* 収集(複数の種類の画像をアップロードしてラベルをつけておく)\n",
    "画像プロジェクト、標準の画像モデルを選び、Class1、Class2にファイルをアップロードする。\n",
    "\n",
    "* トレーニング（アップロードしたらそのまま実行できる。詳細でハイパーパラメータ（エポック、バッチサイズ、学習率）を変更できる）\n",
    "\n",
    "* プレビュー　webcam-> ファイルに変更すると、アップロードできるので、normal.jpg, covid.jpgをアップロードして\n",
    "  正しい出力が得られることを確認する。\n",
    "* 「エクスポートする」で学習モデルをダウンロードできる。TensorFlow, Kerasを選択。スニペットをコピーしてColabノートブックにペースト。\n",
    "teachableフォルダにkeras_model.h5, labels.txtと画像(normal.jpg, covid.jpg)を置けば読み込める。\n",
    "\n",
    "ただし、colabで実行しようすると、tensorflowのバージョンが違うのでそのままでは動かない。\n",
    "!pip install tensorflow==2.10.0\n",
    "を実行（時間がかかる）すると、セッションを再起動する必要があるが、アップロードしたファイルは残るので、そのまま実行できる。"
   ]
  },
  {
   "cell_type": "code",
   "execution_count": 1,
   "metadata": {},
   "outputs": [
    {
     "name": "stdout",
     "output_type": "stream",
     "text": [
      "Model: \"sequential_6\"\n",
      "_________________________________________________________________\n",
      " Layer (type)                Output Shape              Param #   \n",
      "=================================================================\n",
      " sequential_3 (Sequential)   (None, 1280)              410208    \n",
      "                                                                 \n",
      " sequential_5 (Sequential)   (None, 2)                 128300    \n",
      "                                                                 \n",
      "=================================================================\n",
      "Total params: 538,508\n",
      "Trainable params: 524,428\n",
      "Non-trainable params: 14,080\n",
      "_________________________________________________________________\n",
      "1/1 [==============================] - 2s 2s/step\n",
      "Class: covid\n",
      "Confidence Score: 0.9994518\n"
     ]
    }
   ],
   "source": [
    "# 必要なファイル　Keras_Model.h5, labels.txt, covid.jpg, normal.jpg をColabにアップロードする\n",
    "from keras.models import load_model  # TensorFlow is required for Keras to work\n",
    "from PIL import Image, ImageOps  # Install pillow instead of PIL\n",
    "import numpy as np\n",
    "\n",
    "# Disable scientific notation for clarity\n",
    "np.set_printoptions(suppress=True)\n",
    "\n",
    "# Load the model\n",
    "model = load_model(\"teachable/keras_model.h5\", compile=False) # windowsではkeras_model.h5\n",
    "model.summary()\n",
    "\n",
    "# Load the labels\n",
    "class_names = open(\"teachable/labels.txt\", \"r\").readlines()\n",
    "\n",
    "# Create the array of the right shape to feed into the keras model\n",
    "# The 'length' or number of images you can put into the array is\n",
    "# determined by the first position in the shape tuple, in this case 1\n",
    "data = np.ndarray(shape=(1, 224, 224, 3), dtype=np.float32)\n",
    "\n",
    "# Replace this with the path to your image\n",
    "image = Image.open(\"teachable/covid.jpg\").convert(\"RGB\") # <IMAGE_PATH> を covid.jpg or normal.jpg に書き換える。\n",
    "\n",
    "# resizing the image to be at least 224x224 and then cropping from the center\n",
    "size = (224, 224)\n",
    "image = ImageOps.fit(image, size, Image.Resampling.LANCZOS)\n",
    "\n",
    "# turn the image into a numpy array\n",
    "image_array = np.asarray(image)\n",
    "\n",
    "# Normalize the image\n",
    "normalized_image_array = (image_array.astype(np.float32) / 127.5) - 1\n",
    "\n",
    "# Load the image into the array\n",
    "data[0] = normalized_image_array\n",
    "\n",
    "# Predicts the model\n",
    "prediction = model.predict(data)\n",
    "index = np.argmax(prediction)\n",
    "class_name = class_names[index]\n",
    "confidence_score = prediction[0][index]\n",
    "\n",
    "# Print prediction and confidence score\n",
    "print(\"Class:\", class_name[2:], end=\"\")\n",
    "print(\"Confidence Score:\", confidence_score)\n"
   ]
  },
  {
   "cell_type": "code",
   "execution_count": null,
   "metadata": {},
   "outputs": [],
   "source": []
  }
 ],
 "metadata": {
  "kernelspec": {
   "display_name": "tf-gpu-env",
   "language": "python",
   "name": "python3"
  },
  "language_info": {
   "codemirror_mode": {
    "name": "ipython",
    "version": 3
   },
   "file_extension": ".py",
   "mimetype": "text/x-python",
   "name": "python",
   "nbconvert_exporter": "python",
   "pygments_lexer": "ipython3",
   "version": "3.10.13"
  }
 },
 "nbformat": 4,
 "nbformat_minor": 2
}
